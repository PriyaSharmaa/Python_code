{
 "cells": [
  {
   "cell_type": "code",
   "execution_count": 1,
   "metadata": {},
   "outputs": [],
   "source": [
    "#Importing Packages\n",
    "import numpy as np\n",
    "import pandas as pd\n",
    "import pandas_profiling\n",
    "\n",
    "import seaborn as sns\n",
    "import matplotlib.pyplot as plt\n",
    "%matplotlib inline\n",
    "\n",
    "from matplotlib.backends.backend_pdf import PdfPages\n",
    "import statsmodels.formula.api as sm\n",
    "from sklearn.model_selection import train_test_split\n",
    "from sklearn import metrics\n",
    "from sklearn.metrics import mean_squared_error\n",
    "from statsmodels.stats.outliers_influence import variance_inflation_factor\n",
    "from patsy import dmatrices\n",
    "import warnings\n",
    "warnings.filterwarnings('ignore')"
   ]
  },
  {
   "cell_type": "code",
   "execution_count": 2,
   "metadata": {},
   "outputs": [],
   "source": [
    "temp = pd.read_csv(r'C:\\Users\\admin\\DSP\\ABC_Level_One_Tick_Data.csv')\n",
    "# Assumption :  Cost = Volume * Avg_Big_Ask_Spread\n",
    "# Absolute value is considered"
   ]
  },
  {
   "cell_type": "code",
   "execution_count": 3,
   "metadata": {},
   "outputs": [],
   "source": [
    "data = temp[['Open','High','Low','Close','VWAP','TWAP','NumberOfTrades','Volume','Avg_Bid_Ask_Spread','Cost']]\n",
    "\n",
    "# Assumption : These are the variables required to build the model\n",
    "#    Cost = Dependent variable\n",
    "#    Other variables are independent variables"
   ]
  },
  {
   "cell_type": "code",
   "execution_count": 4,
   "metadata": {},
   "outputs": [
    {
     "data": {
      "text/html": [
       "<div>\n",
       "<style scoped>\n",
       "    .dataframe tbody tr th:only-of-type {\n",
       "        vertical-align: middle;\n",
       "    }\n",
       "\n",
       "    .dataframe tbody tr th {\n",
       "        vertical-align: top;\n",
       "    }\n",
       "\n",
       "    .dataframe thead th {\n",
       "        text-align: right;\n",
       "    }\n",
       "</style>\n",
       "<table border=\"1\" class=\"dataframe\">\n",
       "  <thead>\n",
       "    <tr style=\"text-align: right;\">\n",
       "      <th></th>\n",
       "      <th>Open</th>\n",
       "      <th>High</th>\n",
       "      <th>Low</th>\n",
       "      <th>Close</th>\n",
       "      <th>VWAP</th>\n",
       "      <th>TWAP</th>\n",
       "      <th>NumberOfTrades</th>\n",
       "      <th>Volume</th>\n",
       "      <th>Avg_Bid_Ask_Spread</th>\n",
       "      <th>Cost</th>\n",
       "    </tr>\n",
       "  </thead>\n",
       "  <tbody>\n",
       "    <tr>\n",
       "      <th>0</th>\n",
       "      <td>53.545455</td>\n",
       "      <td>54.254545</td>\n",
       "      <td>53.518182</td>\n",
       "      <td>54.209091</td>\n",
       "      <td>53.951161</td>\n",
       "      <td>53.989410</td>\n",
       "      <td>3365</td>\n",
       "      <td>254615.54550</td>\n",
       "      <td>-0.014760</td>\n",
       "      <td>3758.125452</td>\n",
       "    </tr>\n",
       "    <tr>\n",
       "      <th>1</th>\n",
       "      <td>54.209091</td>\n",
       "      <td>54.363636</td>\n",
       "      <td>54.100000</td>\n",
       "      <td>54.290909</td>\n",
       "      <td>54.224500</td>\n",
       "      <td>54.225053</td>\n",
       "      <td>1368</td>\n",
       "      <td>77817.18182</td>\n",
       "      <td>0.013481</td>\n",
       "      <td>1049.046347</td>\n",
       "    </tr>\n",
       "    <tr>\n",
       "      <th>2</th>\n",
       "      <td>54.281818</td>\n",
       "      <td>54.318182</td>\n",
       "      <td>54.218182</td>\n",
       "      <td>54.245455</td>\n",
       "      <td>54.265969</td>\n",
       "      <td>54.266231</td>\n",
       "      <td>909</td>\n",
       "      <td>58191.72727</td>\n",
       "      <td>0.011557</td>\n",
       "      <td>672.537678</td>\n",
       "    </tr>\n",
       "    <tr>\n",
       "      <th>3</th>\n",
       "      <td>54.245455</td>\n",
       "      <td>54.272727</td>\n",
       "      <td>54.118182</td>\n",
       "      <td>54.136364</td>\n",
       "      <td>54.183729</td>\n",
       "      <td>54.182949</td>\n",
       "      <td>501</td>\n",
       "      <td>34762.09091</td>\n",
       "      <td>0.011537</td>\n",
       "      <td>401.059733</td>\n",
       "    </tr>\n",
       "    <tr>\n",
       "      <th>4</th>\n",
       "      <td>54.181818</td>\n",
       "      <td>54.204591</td>\n",
       "      <td>54.100000</td>\n",
       "      <td>54.177318</td>\n",
       "      <td>54.158934</td>\n",
       "      <td>54.156843</td>\n",
       "      <td>474</td>\n",
       "      <td>34644.18182</td>\n",
       "      <td>-0.014078</td>\n",
       "      <td>487.727097</td>\n",
       "    </tr>\n",
       "  </tbody>\n",
       "</table>\n",
       "</div>"
      ],
      "text/plain": [
       "        Open       High        Low      Close       VWAP       TWAP  \\\n",
       "0  53.545455  54.254545  53.518182  54.209091  53.951161  53.989410   \n",
       "1  54.209091  54.363636  54.100000  54.290909  54.224500  54.225053   \n",
       "2  54.281818  54.318182  54.218182  54.245455  54.265969  54.266231   \n",
       "3  54.245455  54.272727  54.118182  54.136364  54.183729  54.182949   \n",
       "4  54.181818  54.204591  54.100000  54.177318  54.158934  54.156843   \n",
       "\n",
       "   NumberOfTrades        Volume  Avg_Bid_Ask_Spread         Cost  \n",
       "0            3365  254615.54550           -0.014760  3758.125452  \n",
       "1            1368   77817.18182            0.013481  1049.046347  \n",
       "2             909   58191.72727            0.011557   672.537678  \n",
       "3             501   34762.09091            0.011537   401.059733  \n",
       "4             474   34644.18182           -0.014078   487.727097  "
      ]
     },
     "execution_count": 4,
     "metadata": {},
     "output_type": "execute_result"
    }
   ],
   "source": [
    "data.head()"
   ]
  },
  {
   "cell_type": "code",
   "execution_count": 5,
   "metadata": {},
   "outputs": [
    {
     "data": {
      "text/plain": [
       "0"
      ]
     },
     "execution_count": 5,
     "metadata": {},
     "output_type": "execute_result"
    }
   ],
   "source": [
    "#Checking Missing values\n",
    "sum(data.isnull().sum())"
   ]
  },
  {
   "cell_type": "code",
   "execution_count": 6,
   "metadata": {},
   "outputs": [
    {
     "name": "stdout",
     "output_type": "stream",
     "text": [
      "<class 'pandas.core.frame.DataFrame'>\n",
      "RangeIndex: 1023 entries, 0 to 1022\n",
      "Data columns (total 10 columns):\n",
      "Open                  1023 non-null float64\n",
      "High                  1023 non-null float64\n",
      "Low                   1023 non-null float64\n",
      "Close                 1023 non-null float64\n",
      "VWAP                  1023 non-null float64\n",
      "TWAP                  1023 non-null float64\n",
      "NumberOfTrades        1023 non-null int64\n",
      "Volume                1023 non-null float64\n",
      "Avg_Bid_Ask_Spread    1023 non-null float64\n",
      "Cost                  1023 non-null float64\n",
      "dtypes: float64(9), int64(1)\n",
      "memory usage: 80.0 KB\n"
     ]
    }
   ],
   "source": [
    "#Checking column  and their data types\n",
    "data.info()"
   ]
  },
  {
   "cell_type": "code",
   "execution_count": 7,
   "metadata": {},
   "outputs": [
    {
     "data": {
      "text/plain": [
       "(1023, 10)"
      ]
     },
     "execution_count": 7,
     "metadata": {},
     "output_type": "execute_result"
    }
   ],
   "source": [
    "#Checking Data Dimension\n",
    "data.shape"
   ]
  },
  {
   "cell_type": "code",
   "execution_count": 8,
   "metadata": {},
   "outputs": [],
   "source": [
    "#Outlier treatment\n",
    "def outlier_capping(x):\n",
    "    x = x.clip_upper(x.quantile(0.99))\n",
    "    x = x.clip_lower(x.quantile(0.01))\n",
    "    return x\n",
    "\n",
    "#Implementing outlier function \n",
    "data_new=data.apply(outlier_capping)"
   ]
  },
  {
   "cell_type": "code",
   "execution_count": 9,
   "metadata": {},
   "outputs": [
    {
     "data": {
      "text/html": [
       "<div>\n",
       "<style scoped>\n",
       "    .dataframe tbody tr th:only-of-type {\n",
       "        vertical-align: middle;\n",
       "    }\n",
       "\n",
       "    .dataframe tbody tr th {\n",
       "        vertical-align: top;\n",
       "    }\n",
       "\n",
       "    .dataframe thead th {\n",
       "        text-align: right;\n",
       "    }\n",
       "</style>\n",
       "<table border=\"1\" class=\"dataframe\">\n",
       "  <thead>\n",
       "    <tr style=\"text-align: right;\">\n",
       "      <th></th>\n",
       "      <th>Open</th>\n",
       "      <th>High</th>\n",
       "      <th>Low</th>\n",
       "      <th>Close</th>\n",
       "      <th>VWAP</th>\n",
       "      <th>TWAP</th>\n",
       "      <th>NumberOfTrades</th>\n",
       "      <th>Volume</th>\n",
       "      <th>Avg_Bid_Ask_Spread</th>\n",
       "      <th>Cost</th>\n",
       "    </tr>\n",
       "  </thead>\n",
       "  <tbody>\n",
       "    <tr>\n",
       "      <th>0</th>\n",
       "      <td>53.545455</td>\n",
       "      <td>54.254545</td>\n",
       "      <td>53.518182</td>\n",
       "      <td>54.172727</td>\n",
       "      <td>53.951161</td>\n",
       "      <td>53.989410</td>\n",
       "      <td>3365.0</td>\n",
       "      <td>254615.54550</td>\n",
       "      <td>-0.014760</td>\n",
       "      <td>3758.125452</td>\n",
       "    </tr>\n",
       "    <tr>\n",
       "      <th>1</th>\n",
       "      <td>54.179818</td>\n",
       "      <td>54.254545</td>\n",
       "      <td>54.100000</td>\n",
       "      <td>54.172727</td>\n",
       "      <td>54.168020</td>\n",
       "      <td>54.162035</td>\n",
       "      <td>1368.0</td>\n",
       "      <td>77817.18182</td>\n",
       "      <td>0.013481</td>\n",
       "      <td>1049.046347</td>\n",
       "    </tr>\n",
       "    <tr>\n",
       "      <th>2</th>\n",
       "      <td>54.179818</td>\n",
       "      <td>54.254545</td>\n",
       "      <td>54.100000</td>\n",
       "      <td>54.172727</td>\n",
       "      <td>54.168020</td>\n",
       "      <td>54.162035</td>\n",
       "      <td>909.0</td>\n",
       "      <td>58191.72727</td>\n",
       "      <td>0.011557</td>\n",
       "      <td>672.537678</td>\n",
       "    </tr>\n",
       "    <tr>\n",
       "      <th>3</th>\n",
       "      <td>54.179818</td>\n",
       "      <td>54.254545</td>\n",
       "      <td>54.100000</td>\n",
       "      <td>54.136364</td>\n",
       "      <td>54.168020</td>\n",
       "      <td>54.162035</td>\n",
       "      <td>501.0</td>\n",
       "      <td>34762.09091</td>\n",
       "      <td>0.011537</td>\n",
       "      <td>401.059733</td>\n",
       "    </tr>\n",
       "    <tr>\n",
       "      <th>4</th>\n",
       "      <td>54.179818</td>\n",
       "      <td>54.204591</td>\n",
       "      <td>54.100000</td>\n",
       "      <td>54.172727</td>\n",
       "      <td>54.158934</td>\n",
       "      <td>54.156843</td>\n",
       "      <td>474.0</td>\n",
       "      <td>34644.18182</td>\n",
       "      <td>-0.014078</td>\n",
       "      <td>487.727097</td>\n",
       "    </tr>\n",
       "  </tbody>\n",
       "</table>\n",
       "</div>"
      ],
      "text/plain": [
       "        Open       High        Low      Close       VWAP       TWAP  \\\n",
       "0  53.545455  54.254545  53.518182  54.172727  53.951161  53.989410   \n",
       "1  54.179818  54.254545  54.100000  54.172727  54.168020  54.162035   \n",
       "2  54.179818  54.254545  54.100000  54.172727  54.168020  54.162035   \n",
       "3  54.179818  54.254545  54.100000  54.136364  54.168020  54.162035   \n",
       "4  54.179818  54.204591  54.100000  54.172727  54.158934  54.156843   \n",
       "\n",
       "   NumberOfTrades        Volume  Avg_Bid_Ask_Spread         Cost  \n",
       "0          3365.0  254615.54550           -0.014760  3758.125452  \n",
       "1          1368.0   77817.18182            0.013481  1049.046347  \n",
       "2           909.0   58191.72727            0.011557   672.537678  \n",
       "3           501.0   34762.09091            0.011537   401.059733  \n",
       "4           474.0   34644.18182           -0.014078   487.727097  "
      ]
     },
     "execution_count": 9,
     "metadata": {},
     "output_type": "execute_result"
    }
   ],
   "source": [
    "data_new.head()"
   ]
  },
  {
   "cell_type": "code",
   "execution_count": 10,
   "metadata": {},
   "outputs": [
    {
     "data": {
      "image/png": "[encoded data removed]",
      "text/plain": [
       "<Figure size 432x288 with 1 Axes>"
      ]
     },
     "metadata": {
      "needs_background": "light"
     },
     "output_type": "display_data"
    }
   ],
   "source": [
    "#Checking the Distribution of Cost\n",
    "# Target variable following Exponential distribution.\n",
    "data_new.Cost.hist(bins=20)\n",
    "plt.show()"
   ]
  },
  {
   "cell_type": "code",
   "execution_count": 11,
   "metadata": {},
   "outputs": [
    {
     "data": {
      "image/png": "[encoded data removed]",
      "text/plain": [
       "<Figure size 432x288 with 1 Axes>"
      ]
     },
     "metadata": {
      "needs_background": "light"
     },
     "output_type": "display_data"
    }
   ],
   "source": [
    "#Applying transformation for target variable to make it into Near normal\n",
    "import numpy as np\n",
    "np.log(data_new.Cost).hist(bins=20)\n",
    "plt.show()"
   ]
  },
  {
   "cell_type": "code",
   "execution_count": 12,
   "metadata": {},
   "outputs": [],
   "source": [
    "data_new['ln_cost'] =  np.log(data_new.Cost)"
   ]
  },
  {
   "cell_type": "code",
   "execution_count": 13,
   "metadata": {},
   "outputs": [
    {
     "data": {
      "text/html": [
       "<div>\n",
       "<style scoped>\n",
       "    .dataframe tbody tr th:only-of-type {\n",
       "        vertical-align: middle;\n",
       "    }\n",
       "\n",
       "    .dataframe tbody tr th {\n",
       "        vertical-align: top;\n",
       "    }\n",
       "\n",
       "    .dataframe thead th {\n",
       "        text-align: right;\n",
       "    }\n",
       "</style>\n",
       "<table border=\"1\" class=\"dataframe\">\n",
       "  <thead>\n",
       "    <tr style=\"text-align: right;\">\n",
       "      <th></th>\n",
       "      <th>Open</th>\n",
       "      <th>High</th>\n",
       "      <th>Low</th>\n",
       "      <th>Close</th>\n",
       "      <th>VWAP</th>\n",
       "      <th>TWAP</th>\n",
       "      <th>NumberOfTrades</th>\n",
       "      <th>Volume</th>\n",
       "      <th>Avg_Bid_Ask_Spread</th>\n",
       "      <th>Cost</th>\n",
       "      <th>ln_cost</th>\n",
       "    </tr>\n",
       "  </thead>\n",
       "  <tbody>\n",
       "    <tr>\n",
       "      <th>0</th>\n",
       "      <td>53.545455</td>\n",
       "      <td>54.254545</td>\n",
       "      <td>53.518182</td>\n",
       "      <td>54.172727</td>\n",
       "      <td>53.951161</td>\n",
       "      <td>53.989410</td>\n",
       "      <td>3365.0</td>\n",
       "      <td>254615.54550</td>\n",
       "      <td>-0.014760</td>\n",
       "      <td>3758.125452</td>\n",
       "      <td>8.231676</td>\n",
       "    </tr>\n",
       "    <tr>\n",
       "      <th>1</th>\n",
       "      <td>54.179818</td>\n",
       "      <td>54.254545</td>\n",
       "      <td>54.100000</td>\n",
       "      <td>54.172727</td>\n",
       "      <td>54.168020</td>\n",
       "      <td>54.162035</td>\n",
       "      <td>1368.0</td>\n",
       "      <td>77817.18182</td>\n",
       "      <td>0.013481</td>\n",
       "      <td>1049.046347</td>\n",
       "      <td>6.955637</td>\n",
       "    </tr>\n",
       "    <tr>\n",
       "      <th>2</th>\n",
       "      <td>54.179818</td>\n",
       "      <td>54.254545</td>\n",
       "      <td>54.100000</td>\n",
       "      <td>54.172727</td>\n",
       "      <td>54.168020</td>\n",
       "      <td>54.162035</td>\n",
       "      <td>909.0</td>\n",
       "      <td>58191.72727</td>\n",
       "      <td>0.011557</td>\n",
       "      <td>672.537678</td>\n",
       "      <td>6.511058</td>\n",
       "    </tr>\n",
       "    <tr>\n",
       "      <th>3</th>\n",
       "      <td>54.179818</td>\n",
       "      <td>54.254545</td>\n",
       "      <td>54.100000</td>\n",
       "      <td>54.136364</td>\n",
       "      <td>54.168020</td>\n",
       "      <td>54.162035</td>\n",
       "      <td>501.0</td>\n",
       "      <td>34762.09091</td>\n",
       "      <td>0.011537</td>\n",
       "      <td>401.059733</td>\n",
       "      <td>5.994110</td>\n",
       "    </tr>\n",
       "    <tr>\n",
       "      <th>4</th>\n",
       "      <td>54.179818</td>\n",
       "      <td>54.204591</td>\n",
       "      <td>54.100000</td>\n",
       "      <td>54.172727</td>\n",
       "      <td>54.158934</td>\n",
       "      <td>54.156843</td>\n",
       "      <td>474.0</td>\n",
       "      <td>34644.18182</td>\n",
       "      <td>-0.014078</td>\n",
       "      <td>487.727097</td>\n",
       "      <td>6.189756</td>\n",
       "    </tr>\n",
       "  </tbody>\n",
       "</table>\n",
       "</div>"
      ],
      "text/plain": [
       "        Open       High        Low      Close       VWAP       TWAP  \\\n",
       "0  53.545455  54.254545  53.518182  54.172727  53.951161  53.989410   \n",
       "1  54.179818  54.254545  54.100000  54.172727  54.168020  54.162035   \n",
       "2  54.179818  54.254545  54.100000  54.172727  54.168020  54.162035   \n",
       "3  54.179818  54.254545  54.100000  54.136364  54.168020  54.162035   \n",
       "4  54.179818  54.204591  54.100000  54.172727  54.158934  54.156843   \n",
       "\n",
       "   NumberOfTrades        Volume  Avg_Bid_Ask_Spread         Cost   ln_cost  \n",
       "0          3365.0  254615.54550           -0.014760  3758.125452  8.231676  \n",
       "1          1368.0   77817.18182            0.013481  1049.046347  6.955637  \n",
       "2           909.0   58191.72727            0.011557   672.537678  6.511058  \n",
       "3           501.0   34762.09091            0.011537   401.059733  5.994110  \n",
       "4           474.0   34644.18182           -0.014078   487.727097  6.189756  "
      ]
     },
     "execution_count": 13,
     "metadata": {},
     "output_type": "execute_result"
    }
   ],
   "source": [
    "data_new.head()"
   ]
  },
  {
   "cell_type": "markdown",
   "metadata": {},
   "source": [
    "## Variable Reduction"
   ]
  },
  {
   "cell_type": "code",
   "execution_count": 14,
   "metadata": {},
   "outputs": [],
   "source": [
    "# Recursive Feature Elimination"
   ]
  },
  {
   "cell_type": "code",
   "execution_count": 15,
   "metadata": {},
   "outputs": [],
   "source": [
    "features = data_new[data_new.columns.difference( ['Cost', 'ln_cost'] )]\n",
    "target = data_new['ln_cost']"
   ]
  },
  {
   "cell_type": "code",
   "execution_count": 16,
   "metadata": {},
   "outputs": [],
   "source": [
    "from sklearn.feature_selection import RFE\n",
    "from sklearn.linear_model import LinearRegression\n",
    "\n",
    "import itertools\n",
    "\n",
    "lm = LinearRegression()\n",
    "\n",
    "# create the RFE model and select 10 attributes\n",
    "rfe = RFE(lm, n_features_to_select=20)\n",
    "rfe = rfe.fit(features, target)"
   ]
  },
  {
   "cell_type": "code",
   "execution_count": 17,
   "metadata": {},
   "outputs": [
    {
     "data": {
      "text/plain": [
       "array([ True,  True,  True,  True,  True,  True,  True,  True,  True])"
      ]
     },
     "execution_count": 17,
     "metadata": {},
     "output_type": "execute_result"
    }
   ],
   "source": [
    "rfe.get_support()"
   ]
  },
  {
   "cell_type": "code",
   "execution_count": 18,
   "metadata": {},
   "outputs": [],
   "source": [
    "# summarize the selection of the attributes\n",
    "feature_map = [(i, v) for i, v in itertools.zip_longest(features.columns, rfe.get_support())]"
   ]
  },
  {
   "cell_type": "code",
   "execution_count": 19,
   "metadata": {},
   "outputs": [
    {
     "data": {
      "text/plain": [
       "[('Avg_Bid_Ask_Spread', True),\n",
       " ('Close', True),\n",
       " ('High', True),\n",
       " ('Low', True),\n",
       " ('NumberOfTrades', True),\n",
       " ('Open', True),\n",
       " ('TWAP', True),\n",
       " ('VWAP', True),\n",
       " ('Volume', True)]"
      ]
     },
     "execution_count": 19,
     "metadata": {},
     "output_type": "execute_result"
    }
   ],
   "source": [
    "feature_map"
   ]
  },
  {
   "cell_type": "markdown",
   "metadata": {},
   "source": [
    "### F-Regression"
   ]
  },
  {
   "cell_type": "code",
   "execution_count": 20,
   "metadata": {},
   "outputs": [],
   "source": [
    "# Feature Selection based on importance\n",
    "from sklearn.feature_selection import f_regression\n",
    "F_values, p_values  = f_regression(features, target )"
   ]
  },
  {
   "cell_type": "code",
   "execution_count": 21,
   "metadata": {},
   "outputs": [],
   "source": [
    "import itertools\n",
    "f_reg_results = [(i, v, z) for i, v, z in itertools.zip_longest(features.columns, F_values,  ['%.3f' % p for p in p_values])]"
   ]
  },
  {
   "cell_type": "code",
   "execution_count": 22,
   "metadata": {},
   "outputs": [],
   "source": [
    "f_reg_results=pd.DataFrame(f_reg_results, columns=['Variable','F_Value', 'P_Value'])"
   ]
  },
  {
   "cell_type": "code",
   "execution_count": 23,
   "metadata": {},
   "outputs": [
    {
     "data": {
      "text/html": [
       "<div>\n",
       "<style scoped>\n",
       "    .dataframe tbody tr th:only-of-type {\n",
       "        vertical-align: middle;\n",
       "    }\n",
       "\n",
       "    .dataframe tbody tr th {\n",
       "        vertical-align: top;\n",
       "    }\n",
       "\n",
       "    .dataframe thead th {\n",
       "        text-align: right;\n",
       "    }\n",
       "</style>\n",
       "<table border=\"1\" class=\"dataframe\">\n",
       "  <thead>\n",
       "    <tr style=\"text-align: right;\">\n",
       "      <th></th>\n",
       "      <th>Variable</th>\n",
       "      <th>F_Value</th>\n",
       "      <th>P_Value</th>\n",
       "    </tr>\n",
       "  </thead>\n",
       "  <tbody>\n",
       "    <tr>\n",
       "      <th>0</th>\n",
       "      <td>Avg_Bid_Ask_Spread</td>\n",
       "      <td>351.313317</td>\n",
       "      <td>0.000</td>\n",
       "    </tr>\n",
       "    <tr>\n",
       "      <th>4</th>\n",
       "      <td>NumberOfTrades</td>\n",
       "      <td>151.685000</td>\n",
       "      <td>0.000</td>\n",
       "    </tr>\n",
       "    <tr>\n",
       "      <th>8</th>\n",
       "      <td>Volume</td>\n",
       "      <td>1830.499001</td>\n",
       "      <td>0.000</td>\n",
       "    </tr>\n",
       "    <tr>\n",
       "      <th>3</th>\n",
       "      <td>Low</td>\n",
       "      <td>3.287507</td>\n",
       "      <td>0.070</td>\n",
       "    </tr>\n",
       "    <tr>\n",
       "      <th>5</th>\n",
       "      <td>Open</td>\n",
       "      <td>2.585942</td>\n",
       "      <td>0.108</td>\n",
       "    </tr>\n",
       "    <tr>\n",
       "      <th>6</th>\n",
       "      <td>TWAP</td>\n",
       "      <td>2.508671</td>\n",
       "      <td>0.114</td>\n",
       "    </tr>\n",
       "    <tr>\n",
       "      <th>7</th>\n",
       "      <td>VWAP</td>\n",
       "      <td>2.293329</td>\n",
       "      <td>0.130</td>\n",
       "    </tr>\n",
       "    <tr>\n",
       "      <th>1</th>\n",
       "      <td>Close</td>\n",
       "      <td>2.155869</td>\n",
       "      <td>0.142</td>\n",
       "    </tr>\n",
       "    <tr>\n",
       "      <th>2</th>\n",
       "      <td>High</td>\n",
       "      <td>1.524333</td>\n",
       "      <td>0.217</td>\n",
       "    </tr>\n",
       "  </tbody>\n",
       "</table>\n",
       "</div>"
      ],
      "text/plain": [
       "             Variable      F_Value P_Value\n",
       "0  Avg_Bid_Ask_Spread   351.313317   0.000\n",
       "4      NumberOfTrades   151.685000   0.000\n",
       "8              Volume  1830.499001   0.000\n",
       "3                 Low     3.287507   0.070\n",
       "5                Open     2.585942   0.108\n",
       "6                TWAP     2.508671   0.114\n",
       "7                VWAP     2.293329   0.130\n",
       "1               Close     2.155869   0.142\n",
       "2                High     1.524333   0.217"
      ]
     },
     "execution_count": 23,
     "metadata": {},
     "output_type": "execute_result"
    }
   ],
   "source": [
    "f_reg_results.sort_values(by=['P_Value'])"
   ]
  },
  {
   "cell_type": "code",
   "execution_count": 24,
   "metadata": {},
   "outputs": [],
   "source": [
    "f_reg_results.P_Value = pd.to_numeric(f_reg_results.P_Value)"
   ]
  },
  {
   "cell_type": "code",
   "execution_count": 25,
   "metadata": {},
   "outputs": [],
   "source": [
    "f_reg_results_new=f_reg_results[f_reg_results.P_Value<=0.2]"
   ]
  },
  {
   "cell_type": "code",
   "execution_count": 26,
   "metadata": {},
   "outputs": [
    {
     "data": {
      "text/html": [
       "<div>\n",
       "<style scoped>\n",
       "    .dataframe tbody tr th:only-of-type {\n",
       "        vertical-align: middle;\n",
       "    }\n",
       "\n",
       "    .dataframe tbody tr th {\n",
       "        vertical-align: top;\n",
       "    }\n",
       "\n",
       "    .dataframe thead th {\n",
       "        text-align: right;\n",
       "    }\n",
       "</style>\n",
       "<table border=\"1\" class=\"dataframe\">\n",
       "  <thead>\n",
       "    <tr style=\"text-align: right;\">\n",
       "      <th></th>\n",
       "      <th>Variable</th>\n",
       "      <th>F_Value</th>\n",
       "      <th>P_Value</th>\n",
       "    </tr>\n",
       "  </thead>\n",
       "  <tbody>\n",
       "    <tr>\n",
       "      <th>0</th>\n",
       "      <td>Avg_Bid_Ask_Spread</td>\n",
       "      <td>351.313317</td>\n",
       "      <td>0.000</td>\n",
       "    </tr>\n",
       "    <tr>\n",
       "      <th>1</th>\n",
       "      <td>Close</td>\n",
       "      <td>2.155869</td>\n",
       "      <td>0.142</td>\n",
       "    </tr>\n",
       "    <tr>\n",
       "      <th>3</th>\n",
       "      <td>Low</td>\n",
       "      <td>3.287507</td>\n",
       "      <td>0.070</td>\n",
       "    </tr>\n",
       "    <tr>\n",
       "      <th>4</th>\n",
       "      <td>NumberOfTrades</td>\n",
       "      <td>151.685000</td>\n",
       "      <td>0.000</td>\n",
       "    </tr>\n",
       "    <tr>\n",
       "      <th>5</th>\n",
       "      <td>Open</td>\n",
       "      <td>2.585942</td>\n",
       "      <td>0.108</td>\n",
       "    </tr>\n",
       "    <tr>\n",
       "      <th>6</th>\n",
       "      <td>TWAP</td>\n",
       "      <td>2.508671</td>\n",
       "      <td>0.114</td>\n",
       "    </tr>\n",
       "    <tr>\n",
       "      <th>7</th>\n",
       "      <td>VWAP</td>\n",
       "      <td>2.293329</td>\n",
       "      <td>0.130</td>\n",
       "    </tr>\n",
       "    <tr>\n",
       "      <th>8</th>\n",
       "      <td>Volume</td>\n",
       "      <td>1830.499001</td>\n",
       "      <td>0.000</td>\n",
       "    </tr>\n",
       "  </tbody>\n",
       "</table>\n",
       "</div>"
      ],
      "text/plain": [
       "             Variable      F_Value  P_Value\n",
       "0  Avg_Bid_Ask_Spread   351.313317    0.000\n",
       "1               Close     2.155869    0.142\n",
       "3                 Low     3.287507    0.070\n",
       "4      NumberOfTrades   151.685000    0.000\n",
       "5                Open     2.585942    0.108\n",
       "6                TWAP     2.508671    0.114\n",
       "7                VWAP     2.293329    0.130\n",
       "8              Volume  1830.499001    0.000"
      ]
     },
     "execution_count": 26,
     "metadata": {},
     "output_type": "execute_result"
    }
   ],
   "source": [
    "f_reg_results_new"
   ]
  },
  {
   "cell_type": "markdown",
   "metadata": {},
   "source": [
    "#### Train and Test data"
   ]
  },
  {
   "cell_type": "code",
   "execution_count": 27,
   "metadata": {},
   "outputs": [],
   "source": [
    "#Splitting data into training and testing data sets\n",
    "train_reg, test_reg = train_test_split(data_new, test_size = 0.3)"
   ]
  },
  {
   "cell_type": "code",
   "execution_count": 28,
   "metadata": {},
   "outputs": [],
   "source": [
    "model_reg = sm.ols('ln_cost~Open+High+Low+Close+VWAP+TWAP+NumberOfTrades+Volume+Avg_Bid_Ask_Spread',data = train_reg).fit()"
   ]
  },
  {
   "cell_type": "code",
   "execution_count": 29,
   "metadata": {},
   "outputs": [
    {
     "name": "stdout",
     "output_type": "stream",
     "text": [
      "                 Results: Ordinary least squares\n",
      "==================================================================\n",
      "Model:              OLS              Adj. R-squared:     0.678    \n",
      "Dependent Variable: ln_cost          AIC:                2121.8021\n",
      "Date:               2021-03-19 17:15 BIC:                2167.5389\n",
      "No. Observations:   716              Log-Likelihood:     -1050.9  \n",
      "Df Model:           9                F-statistic:        168.2    \n",
      "Df Residuals:       706              Prob (F-statistic): 4.52e-169\n",
      "R-squared:          0.682            Scale:              1.1181   \n",
      "------------------------------------------------------------------\n",
      "                    Coef.  Std.Err.    t    P>|t|   [0.025  0.975]\n",
      "------------------------------------------------------------------\n",
      "Intercept           6.4719   0.2712 23.8665 0.0000  5.9395  7.0043\n",
      "Open               -0.2858   0.2530 -1.1298 0.2590 -0.7825  0.2109\n",
      "High               -0.1665   0.2114 -0.7876 0.4312 -0.5815  0.2485\n",
      "Low                -0.2268   0.1713 -1.3243 0.1858 -0.5630  0.1094\n",
      "Close              -0.8011   0.2462 -3.2539 0.0012 -1.2845 -0.3177\n",
      "VWAP                0.1261   0.3414  0.3694 0.7119 -0.5441  0.7963\n",
      "TWAP                1.3657   0.4465  3.0588 0.0023  0.4891  2.2423\n",
      "NumberOfTrades     -0.0000   0.0000 -2.4170 0.0159 -0.0001 -0.0000\n",
      "Volume              0.0000   0.0000 28.0482 0.0000  0.0000  0.0000\n",
      "Avg_Bid_Ask_Spread -2.2552   0.3556 -6.3418 0.0000 -2.9534 -1.5570\n",
      "------------------------------------------------------------------\n",
      "Omnibus:              168.350      Durbin-Watson:         2.068   \n",
      "Prob(Omnibus):        0.000        Jarque-Bera (JB):      1107.518\n",
      "Skew:                 0.879        Prob(JB):              0.000   \n",
      "Kurtosis:             8.833        Condition No.:         7714651 \n",
      "==================================================================\n",
      "* The condition number is large (8e+06). This might indicate\n",
      "strong multicollinearity or other numerical problems.\n"
     ]
    }
   ],
   "source": [
    "print(model_reg.summary2())"
   ]
  },
  {
   "cell_type": "code",
   "execution_count": 30,
   "metadata": {},
   "outputs": [],
   "source": [
    "#Transforming log values into actual values in both training and testing data sets\n",
    "train_reg['pred'] =np.exp(model_reg.predict(train_reg))\n",
    "test_reg['pred'] =np.exp(model_reg.predict(test_reg))\n",
    "train_reg['ln_cost'] = np.exp(train_reg.ln_cost)\n",
    "test_reg['ln_cost'] = np.exp(test_reg.ln_cost)"
   ]
  },
  {
   "cell_type": "code",
   "execution_count": 31,
   "metadata": {},
   "outputs": [
    {
     "name": "stdout",
     "output_type": "stream",
     "text": [
      "MAPE for Training and testing data sets:\n",
      "1.1497257195229402\n",
      "2.0443028111280714\n",
      "\n",
      "MSE for Training and testing data sets:\n",
      "529658282361.2294\n",
      "6039563653625.292\n",
      "\n",
      "RMSE for Training and testing data sets:\n",
      "727776.2584484529\n",
      "2457552.3704745932\n"
     ]
    }
   ],
   "source": [
    "#Checking Metrics for both training and testing data sets\n",
    "\n",
    "print(\"MAPE for Training and testing data sets:\")\n",
    "MAPE_train = np.mean(np.abs(train_reg.ln_cost - train_reg.pred)/train_reg.ln_cost)\n",
    "print(MAPE_train)\n",
    "MAPE_train = np.mean(np.abs(test_reg.ln_cost - test_reg.pred)/test_reg.ln_cost)\n",
    "print(MAPE_train)\n",
    "print(\"\\nMSE for Training and testing data sets:\")\n",
    "#MSE for training and testing data sets                           \n",
    "print(metrics.mean_squared_error(train_reg.ln_cost,train_reg.pred)) \n",
    "print(metrics.mean_squared_error(test_reg.ln_cost,test_reg.pred))\n",
    "print(\"\\nRMSE for Training and testing data sets:\")\n",
    "#RMSE for training and testing data sets                           \n",
    "print(np.sqrt(metrics.mean_squared_error(train_reg.ln_cost,train_reg.pred)))\n",
    "print(np.sqrt(metrics.mean_squared_error(test_reg.ln_cost,test_reg.pred)))"
   ]
  },
  {
   "cell_type": "code",
   "execution_count": 32,
   "metadata": {},
   "outputs": [
    {
     "data": {
      "image/png": "[encoded data removed]",
      "text/plain": [
       "<Figure size 432x288 with 1 Axes>"
      ]
     },
     "metadata": {
      "needs_background": "light"
     },
     "output_type": "display_data"
    }
   ],
   "source": [
    "#Checking Errors distribution\n",
    "model_reg.resid.hist(bins=15)\n",
    "model_reg.resid.to_csv(\"Residual.csv\")\n",
    "# Residuals following Normal distribution. This is one of the Assumption in Linear Regression."
   ]
  },
  {
   "cell_type": "markdown",
   "metadata": {},
   "source": [
    "### K - Nearest Neighbours"
   ]
  },
  {
   "cell_type": "code",
   "execution_count": 33,
   "metadata": {},
   "outputs": [],
   "source": [
    "#Importing required modules\n",
    "from sklearn.neighbors import KNeighborsRegressor\n",
    "from sklearn.preprocessing import StandardScaler\n",
    "from sklearn.model_selection import GridSearchCV"
   ]
  },
  {
   "cell_type": "code",
   "execution_count": 34,
   "metadata": {},
   "outputs": [],
   "source": [
    "X = data_new[data_new.columns.difference(['ln_cost'])]\n",
    "target = data_new[['ln_cost']]\n",
    "features = X"
   ]
  },
  {
   "cell_type": "code",
   "execution_count": 35,
   "metadata": {},
   "outputs": [],
   "source": [
    "#Splitting the data for sklearn methods\n",
    "train_y, test_y, train_x, test_x = train_test_split(target,features, test_size=0.3, random_state=123)"
   ]
  },
  {
   "cell_type": "code",
   "execution_count": 36,
   "metadata": {},
   "outputs": [],
   "source": [
    "#Standardising the data because KNN is distance based algorithm \n",
    "scaler = StandardScaler()\n",
    "train_X = scaler.fit_transform(train_x)\n",
    "test_X = scaler.fit_transform(test_x)"
   ]
  },
  {
   "cell_type": "code",
   "execution_count": 37,
   "metadata": {},
   "outputs": [],
   "source": [
    "#Model Building using different tuning parameters\n",
    "tuned_parameters = [{'n_neighbors': [3,5, 7, 9,11],\n",
    "                    'leaf_size':[20,30,40,50,60]}]\n",
    "\n",
    "knn_reg = GridSearchCV(KNeighborsRegressor(),\n",
    "                   tuned_parameters,\n",
    "                   cv=3)\n",
    "\n",
    "data_knn = knn_reg.fit(train_X,train_y)"
   ]
  },
  {
   "cell_type": "code",
   "execution_count": 38,
   "metadata": {},
   "outputs": [],
   "source": [
    "#Predicting values for both training and testing data sets\n",
    "knn_train_pred=data_knn.predict(train_X)\n",
    "knn_test_pred=data_knn.predict(test_X)"
   ]
  },
  {
   "cell_type": "code",
   "execution_count": 39,
   "metadata": {},
   "outputs": [
    {
     "name": "stdout",
     "output_type": "stream",
     "text": [
      "MAPE values for training and testing data :\n",
      "ln_cost    0.029971\n",
      "dtype: float64\n",
      "ln_cost    0.045948\n",
      "dtype: float64\n",
      "\n",
      "RMSE values for training and testing data :\n",
      "0.3903742332816778\n",
      "0.7083613573170393\n"
     ]
    }
   ],
   "source": [
    "#Metrics for both training and testing data \n",
    "\n",
    "#Mean Absolute Percentage Error \n",
    "print(\"MAPE values for training and testing data :\")\n",
    "MAPE_train = np.mean(np.abs(train_y - knn_train_pred)/train_y)\n",
    "print(MAPE_train)\n",
    "MAPE_test = np.mean(np.abs(test_y- knn_test_pred)/test_y)\n",
    "print(MAPE_test)\n",
    "\n",
    "#Root Mean Squared error\n",
    "print(\"\\nRMSE values for training and testing data :\")\n",
    "RMSE_test = np.sqrt(mean_squared_error(train_y,knn_train_pred))\n",
    "print(RMSE_test)\n",
    "RMSE_test =np.sqrt(mean_squared_error(test_y,knn_test_pred))\n",
    "print(RMSE_test)"
   ]
  },
  {
   "cell_type": "markdown",
   "metadata": {},
   "source": [
    "## ANN(Artificial Neural Network)"
   ]
  },
  {
   "cell_type": "code",
   "execution_count": 40,
   "metadata": {},
   "outputs": [],
   "source": [
    "#Importing required Module\n",
    "from sklearn.neural_network import MLPRegressor"
   ]
  },
  {
   "cell_type": "code",
   "execution_count": 41,
   "metadata": {},
   "outputs": [],
   "source": [
    "pargrid_ann = {'activation': ['relu','tanh','logistic','identity'],\n",
    "               'alpha':[0.0001,0.001,0.01,1,10,100,1000]}\n",
    "\n",
    "ann_reg = GridSearchCV(MLPRegressor(),pargrid_ann,cv=3)\n",
    "\n",
    "data_ann = ann_reg.fit(train_X,train_y)"
   ]
  },
  {
   "cell_type": "code",
   "execution_count": 42,
   "metadata": {},
   "outputs": [],
   "source": [
    "#Predicting values for both training and testing data sets\n",
    "ann_train_pred=data_ann.predict(train_X)\n",
    "ann_test_pred=data_ann.predict(test_X)"
   ]
  },
  {
   "cell_type": "code",
   "execution_count": 43,
   "metadata": {},
   "outputs": [
    {
     "name": "stdout",
     "output_type": "stream",
     "text": [
      "\n",
      "RMSE values for training and testing data :\n",
      "0.558836853645257\n",
      "0.6364783346014814\n"
     ]
    }
   ],
   "source": [
    "#Metrics for both training and testing data \n",
    "\n",
    "\n",
    "#Root Mean Squared error\n",
    "print(\"\\nRMSE values for training and testing data :\")\n",
    "RMSE_test = np.sqrt(mean_squared_error(train_y,ann_train_pred))\n",
    "print(RMSE_test)\n",
    "RMSE_test =np.sqrt(mean_squared_error(test_y,ann_test_pred))\n",
    "print(RMSE_test)"
   ]
  },
  {
   "cell_type": "markdown",
   "metadata": {},
   "source": [
    "## SVM(Support Vector Machine) "
   ]
  },
  {
   "cell_type": "code",
   "execution_count": 44,
   "metadata": {},
   "outputs": [],
   "source": [
    "#Importing required modules\n",
    "from sklearn.svm import SVR\n",
    "from sklearn.svm import LinearSVR "
   ]
  },
  {
   "cell_type": "code",
   "execution_count": 45,
   "metadata": {},
   "outputs": [],
   "source": [
    "#Model building using Linear svm \n",
    "tuned_parameters = [{'C': [1,0.1,0.001,10,100],\n",
    "                    'gamma':[0.0001, 0.001, 0.01, 0.1],\n",
    "                    'kernel':['linear','rbf','poly']}]\n",
    "\n",
    "svr_reg = GridSearchCV(SVR(),\n",
    "                   tuned_parameters,\n",
    "                   cv=3)\n",
    "\n",
    "data_svr = svr_reg.fit(train_X,train_y)"
   ]
  },
  {
   "cell_type": "code",
   "execution_count": 46,
   "metadata": {},
   "outputs": [],
   "source": [
    "#Predicting values for both training and testing data sets\n",
    "L_svr_train_pred=data_svr.predict(train_x)\n",
    "L_svr_test_pred=data_svr.predict(test_x)"
   ]
  },
  {
   "cell_type": "code",
   "execution_count": 47,
   "metadata": {},
   "outputs": [
    {
     "name": "stdout",
     "output_type": "stream",
     "text": [
      "\n",
      "RMSE values for training and testing data :\n",
      "3.522114414173996\n",
      "3.4950359661620527\n"
     ]
    }
   ],
   "source": [
    "#Metrics for both training and testing data \n",
    "\n",
    "\n",
    "#Root Mean Squared error\n",
    "print(\"\\nRMSE values for training and testing data :\")\n",
    "RMSE_test = np.sqrt(mean_squared_error(train_y,L_svr_train_pred))\n",
    "print(RMSE_test)\n",
    "RMSE_test =np.sqrt(mean_squared_error(test_y,L_svr_test_pred))\n",
    "print(RMSE_test)"
   ]
  },
  {
   "cell_type": "markdown",
   "metadata": {},
   "source": [
    "-------------------------------------- End -------------------------------------------------------------------------"
   ]
  }
 ],
 "metadata": {
  "kernelspec": {
   "display_name": "Python 3",
   "language": "python",
   "name": "python3"
  },
  "language_info": {
   "codemirror_mode": {
    "name": "ipython",
    "version": 3
   },
   "file_extension": ".py",
   "mimetype": "text/x-python",
   "name": "python",
   "nbconvert_exporter": "python",
   "pygments_lexer": "ipython3",
   "version": "3.7.1"
  }
 },
 "nbformat": 4,
 "nbformat_minor": 2
}
